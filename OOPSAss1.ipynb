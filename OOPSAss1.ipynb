{
 "cells": [
  {
   "cell_type": "markdown",
   "id": "c7b48a56-6cff-424e-9e4e-5e487fad8982",
   "metadata": {},
   "source": [
    "class Vehicle:\n",
    "    def __init__(self, name_of_vehicle, max_speed, average_of_vehicle):\n",
    "        self.name_of_vehicle = name_of_vehicle\n",
    "        self.max_speed = max_speed\n",
    "        self.average_of_vehicle = average_of_vehicle\n",
    "\n",
    "\n",
    "Q2. Create a child class car from the vehicle class created in Q1, which will inherit the vehicle class. Create a method named seating_capacity which takes capacity as an argument and returns the name of the vehicle and its seating capacity.\n",
    "class Car(Vehicle):\n",
    "    def __init__(self, name_of_vehicle, max_speed, average_of_vehicle):\n",
    "        super().__init__(name_of_vehicle, max_speed, average_of_vehicle)\n",
    "\n",
    "    def seating_capacity(self, capacity):\n",
    "        return f\"The {self.name_of_vehicle} has a seating capacity of {capacity} passengers.\"\n"
   ]
  },
  {
   "cell_type": "markdown",
   "id": "33f9805a-505a-4e2e-ac27-3834d537d79e",
   "metadata": {},
   "source": [
    "Q3. What is multiple inheritance? Write a python code to demonstrate multiple inheritance.\n",
    "\n",
    "    Multiple Inheritance: Multiple inheritance refers to a feature in object-oriented programming where a class can inherit attributes and methods from more than one parent class.\n",
    "\n",
    "Here's an example demonstrating multiple inheritance:\n",
    "class Parent1:\n",
    "    def method1(self):\n",
    "        print(\"Method from Parent1\")\n",
    "\n",
    "class Parent2:\n",
    "    def method2(self):\n",
    "        print(\"Method from Parent2\")\n",
    "\n",
    "class Child(Parent1, Parent2):\n",
    "    def method3(self):\n",
    "        print(\"Method from Child\")\n",
    "\n",
    "# Creating an object of Child class\n",
    "child_obj = Child()\n",
    "\n",
    "# Accessing methods from both parent classes\n",
    "child_obj.method1()  # Output: Method from Parent1\n",
    "child_obj.method2()  # Output: Method from Parent2\n",
    "child_obj.method3()  # Output: Method from Child\n"
   ]
  },
  {
   "cell_type": "markdown",
   "id": "0900b24d-8e01-4d93-bf9e-ffed655e76c3",
   "metadata": {},
   "source": [
    "Q4. What are getter and setter in python? Create a class and create a getter and a setter method in this class.\n",
    "\n",
    "    Getter and Setter: Getters and setters are methods used to retrieve and modify the values of private attributes of a class, respectively. They provide controlled access to class attributes.\n",
    "\n",
    "Here's an example demonstrating getters and setters:\n",
    "\n",
    "class MyClass:\n",
    "    def __init__(self):\n",
    "        self._my_attr = None  # Private attribute\n",
    "\n",
    "    # Getter method\n",
    "    def get_my_attr(self):\n",
    "        return self._my_attr\n",
    "\n",
    "    # Setter method\n",
    "    def set_my_attr(self, value):\n",
    "        self._my_attr = value\n",
    "\n",
    "# Creating an object of MyClass\n",
    "obj = MyClass()\n",
    "\n",
    "# Using setter method to set the value\n",
    "obj.set_my_attr(\"Hello, World!\")\n",
    "\n",
    "# Using getter method to get the value\n",
    "print(obj.get_my_attr())  # Output: Hello, World!\n"
   ]
  },
  {
   "cell_type": "markdown",
   "id": "769b4dd6-9c86-4fcb-85af-6ade7381cc0c",
   "metadata": {},
   "source": [
    "Q5. What is method overriding in python? Write a python code to demonstrate method overriding.\n",
    "\n",
    "    Method Overriding: Method overriding is a feature in object-oriented programming that allows a subclass to provide a specific implementation of a method that is already defined in its superclass. It is used to provide a more specific or specialized behavior.\n",
    "\n",
    "Here's an example demonstrating method overriding:\n",
    "\n",
    "Ans-> class Parent:\n",
    "    def greet(self):\n",
    "        print(\"Hello from Parent class\")\n",
    "\n",
    "class Child(Parent):\n",
    "    def greet(self):\n",
    "        print(\"Hello from Child class\")\n",
    "\n",
    "# Creating objects\n",
    "parent_obj = Parent()\n",
    "child_obj = Child()\n",
    "\n",
    "# Calling overridden methods\n",
    "parent_obj.greet()  # Output: Hello from Parent class\n",
    "child_obj.greet()   # Output: Hello from Child class\n"
   ]
  },
  {
   "cell_type": "code",
   "execution_count": null,
   "id": "bb13c0aa-33b6-495c-b6fc-8a9438f5d203",
   "metadata": {},
   "outputs": [],
   "source": []
  }
 ],
 "metadata": {
  "kernelspec": {
   "display_name": "Python 3 (ipykernel)",
   "language": "python",
   "name": "python3"
  },
  "language_info": {
   "codemirror_mode": {
    "name": "ipython",
    "version": 3
   },
   "file_extension": ".py",
   "mimetype": "text/x-python",
   "name": "python",
   "nbconvert_exporter": "python",
   "pygments_lexer": "ipython3",
   "version": "3.10.8"
  }
 },
 "nbformat": 4,
 "nbformat_minor": 5
}
